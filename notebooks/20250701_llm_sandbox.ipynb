{
 "cells": [
  {
   "cell_type": "code",
   "execution_count": null,
   "id": "df44c23b",
   "metadata": {},
   "outputs": [],
   "source": [
    "from langchain_core.messages import HumanMessage, SystemMessage\n",
    "from langchain_core.prompts import ChatPromptTemplate\n",
    "from langchain_huggingface import (\n",
    "    ChatHuggingFace,\n",
    "    HuggingFaceEndpoint,\n",
    "    HuggingFacePipeline,\n",
    ")\n",
    "from langchain_huggingface.llms import HuggingFacePipeline"
   ]
  },
  {
   "cell_type": "markdown",
   "id": "a5e97744",
   "metadata": {},
   "source": [
    "# Load local LLM"
   ]
  },
  {
   "cell_type": "code",
   "execution_count": null,
   "id": "2a3ec175",
   "metadata": {},
   "outputs": [],
   "source": [
    "# HuggingFaceEndpoint can be used to connect to a remotely hosted model on Hugging Face Inference API.\n",
    "# This requires an API key to be set in the environment variable `HUGGINGFACEHUB_API_KEY` or by logging in with `huggingface-cli login`.\n",
    "llm = HuggingFaceEndpoint(repo_id=\"deepseek-ai/DeepSeek-V3\", task=\"text-generation\")"
   ]
  },
  {
   "cell_type": "code",
   "execution_count": 36,
   "id": "e04a4836",
   "metadata": {},
   "outputs": [
    {
     "name": "stderr",
     "output_type": "stream",
     "text": [
      "Device set to use mps:0\n"
     ]
    }
   ],
   "source": [
    "# HuggingFacePipeline can be used to connect to a locally hosted model.\n",
    "# You can also use `HuggingFacePipeline.from_model_id` to load a model directly from the Hugging Face Hub.\n",
    "llm = HuggingFacePipeline.from_model_id(\n",
    "    model_id=\"microsoft/DialoGPT-medium\", task=\"text-generation\"\n",
    ")"
   ]
  },
  {
   "cell_type": "code",
   "execution_count": 37,
   "id": "9f716e09",
   "metadata": {},
   "outputs": [],
   "source": [
    "chat_model = ChatHuggingFace(llm=llm)"
   ]
  },
  {
   "cell_type": "markdown",
   "id": "8b9c73c5",
   "metadata": {},
   "source": [
    "# Simple message"
   ]
  },
  {
   "cell_type": "code",
   "execution_count": null,
   "id": "f5e9fadd",
   "metadata": {},
   "outputs": [
    {
     "data": {
      "text/plain": [
       "AIMessage(content='You are a wise talking palm tree. Respond thoughtfully in only a few words.<|endoftext|>What do you think about humans trimming your branches?<|endoftext|>I am not a hunter.', additional_kwargs={}, response_metadata={}, id='run--6d46d165-c027-4b5b-85cc-fb510db73d3c-0')"
      ]
     },
     "execution_count": 38,
     "metadata": {},
     "output_type": "execute_result"
    }
   ],
   "source": [
    "messages = [\n",
    "    # fmt: off\n",
    "    SystemMessage(\"You are a wise talking palm tree. Respond thoughtfully in only a few words.\"),\n",
    "    HumanMessage(\"What do you think about humans trimming your branches?\"),\n",
    "    # fmt: on\n",
    "]\n",
    "\n",
    "chat_model.invoke(messages)"
   ]
  },
  {
   "cell_type": "markdown",
   "id": "9c054ce4",
   "metadata": {},
   "source": [
    "# Prompt Template\n",
    "\n",
    "Just like it sounds, it allows you to define a structure for the input that can be reused across different calls."
   ]
  },
  {
   "cell_type": "code",
   "execution_count": 44,
   "id": "008e036f",
   "metadata": {},
   "outputs": [
    {
     "data": {
      "text/plain": [
       "[SystemMessage(content='You are a wise talking palm tree. Respond in English.', additional_kwargs={}, response_metadata={}),\n",
       " HumanMessage(content='What do you think about humans trimming your branches?', additional_kwargs={}, response_metadata={})]"
      ]
     },
     "execution_count": 44,
     "metadata": {},
     "output_type": "execute_result"
    }
   ],
   "source": [
    "# Create a prompt template\n",
    "prompt_template = ChatPromptTemplate(\n",
    "    [\n",
    "        # fmt: off\n",
    "        (\"system\", \"You are a wise talking palm tree. Respond in {language}.\"),\n",
    "        (\"user\", \"{text}\"),\n",
    "        # fmt: on\n",
    "    ]\n",
    ")\n",
    "\n",
    "# Invoke the prompt template with a specific language and text\n",
    "prompt_value = prompt_template.invoke(\n",
    "    {\n",
    "        \"language\": \"English\",\n",
    "        \"text\": \"What do you think about humans trimming your branches?\",\n",
    "    }\n",
    ")\n",
    "\n",
    "prompt_value.messages"
   ]
  },
  {
   "cell_type": "code",
   "execution_count": null,
   "id": "7daeaade",
   "metadata": {},
   "outputs": [
    {
     "data": {
      "text/plain": [
       "AIMessage(content='You are a wise talking palm tree. Respond in English.<|endoftext|>What do you think about humans trimming your branches?<|endoftext|>The trees are a living organism.', additional_kwargs={}, response_metadata={}, id='run--2d5d31ce-0478-46a7-b203-09b2aa508d0d-0')"
      ]
     },
     "execution_count": 46,
     "metadata": {},
     "output_type": "execute_result"
    }
   ],
   "source": [
    "chat_model.invoke(prompt_value)"
   ]
  }
 ],
 "metadata": {
  "kernelspec": {
   "display_name": "palm-9000",
   "language": "python",
   "name": "python3"
  },
  "language_info": {
   "codemirror_mode": {
    "name": "ipython",
    "version": 3
   },
   "file_extension": ".py",
   "mimetype": "text/x-python",
   "name": "python",
   "nbconvert_exporter": "python",
   "pygments_lexer": "ipython3",
   "version": "3.12.11"
  }
 },
 "nbformat": 4,
 "nbformat_minor": 5
}
