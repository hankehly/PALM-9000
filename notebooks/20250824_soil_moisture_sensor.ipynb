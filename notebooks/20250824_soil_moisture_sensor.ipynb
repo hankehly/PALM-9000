{
 "cells": [
  {
   "cell_type": "markdown",
   "id": "7ee98d17",
   "metadata": {},
   "source": [
    "# Summary\n",
    "\n",
    "This notebook demonstrates how to read soil moisture levels from a sensor using the [ADC0834 analog-to-digital converter](https://medium.com/@hankehly/adc0834-a-step-by-step-guide-to-analog-to-digital-conversion-fa502eacc0c9).\n",
    "\n",
    "![Soil moisture sensor](../images/soil-moisture-sensor.png)"
   ]
  },
  {
   "cell_type": "code",
   "execution_count": null,
   "id": "f6242b2e",
   "metadata": {},
   "outputs": [],
   "source": [
    "import time\n",
    "\n",
    "import RPi.GPIO as GPIO\n",
    "from gpiozero import PWMLED\n",
    "from IPython.display import clear_output\n",
    "\n",
    "from palm_9000.adc0834 import ADC0834"
   ]
  },
  {
   "cell_type": "code",
   "execution_count": 8,
   "id": "983003e4",
   "metadata": {},
   "outputs": [
    {
     "name": "stdout",
     "output_type": "stream",
     "text": [
      "adc_value=53, duty=20%\n",
      "Exiting...\n"
     ]
    }
   ],
   "source": [
    "GPIO.setmode(GPIO.BCM)\n",
    "\n",
    "# Set your pins\n",
    "ADC_CS = 26\n",
    "ADC_CLK = 19\n",
    "ADC_DIO = 21\n",
    "LED_PIN = 20\n",
    "\n",
    "adc = ADC0834(cs=ADC_CS, clk=ADC_CLK, dio=ADC_DIO).setup()\n",
    "led = PWMLED(LED_PIN, frequency=1000)  # 1 kHz\n",
    "\n",
    "try:\n",
    "    while True:\n",
    "        adc_value = adc.read()  # 0-255 from ADC0834\n",
    "        duty_ratio = max(0.0, min(1.0, adc_value / 255.0))\n",
    "        led.value = duty_ratio  # Set LED brightness\n",
    "        clear_output(wait=True)\n",
    "        print(f\"adc_value={adc_value}, duty={int(duty_ratio * 100)}%\")\n",
    "        time.sleep(0.5)\n",
    "except KeyboardInterrupt:\n",
    "    print(\"Exiting...\")\n",
    "finally:\n",
    "    led.off()\n",
    "    led.close()"
   ]
  },
  {
   "cell_type": "code",
   "execution_count": 9,
   "id": "08d3779d",
   "metadata": {},
   "outputs": [],
   "source": [
    "GPIO.cleanup()"
   ]
  }
 ],
 "metadata": {
  "kernelspec": {
   "display_name": "palm-9000",
   "language": "python",
   "name": "python3"
  },
  "language_info": {
   "codemirror_mode": {
    "name": "ipython",
    "version": 3
   },
   "file_extension": ".py",
   "mimetype": "text/x-python",
   "name": "python",
   "nbconvert_exporter": "python",
   "pygments_lexer": "ipython3",
   "version": "3.12.8"
  }
 },
 "nbformat": 4,
 "nbformat_minor": 5
}
