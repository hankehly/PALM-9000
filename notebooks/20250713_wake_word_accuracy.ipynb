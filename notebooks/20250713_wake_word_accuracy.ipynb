{
 "cells": [
  {
   "cell_type": "markdown",
   "id": "9bfe38ad",
   "metadata": {},
   "source": [
    "# Summary\n",
    "\n",
    "This notebook explores the difference in wake word detection accuracy between the pvrecorder.PvRecorder and sounddevice library implementations. pvrecorder is preferrable for simplicity and performance, but the device index options are not the same as sounddevice, which can result in double management."
   ]
  },
  {
   "cell_type": "code",
   "execution_count": 17,
   "id": "36313b74",
   "metadata": {},
   "outputs": [
    {
     "name": "stdout",
     "output_type": "stream",
     "text": [
      "Detected wake word!\n",
      "Stopping wake word detection...\n"
     ]
    }
   ],
   "source": [
    "import pvporcupine\n",
    "import pvrecorder\n",
    "from palm_9000.settings import settings\n",
    "\n",
    "porcupine = pvporcupine.create(\n",
    "    access_key=settings.picovoice_access_key.get_secret_value(),\n",
    "    keyword_paths=[settings.porcupine_keyword_path],\n",
    "    model_path=settings.porcupine_model_path,\n",
    ")\n",
    "recorder = pvrecorder.PvRecorder(device_index=-1, frame_length=porcupine.frame_length)\n",
    "recorder.start()\n",
    "try:\n",
    "    while True:\n",
    "        pcm = recorder.read()\n",
    "        idx = porcupine.process(pcm)\n",
    "        if idx >= 0:\n",
    "            print(\"Detected wake word!\")\n",
    "except KeyboardInterrupt:\n",
    "    print(\"Stopping wake word detection...\")"
   ]
  },
  {
   "cell_type": "code",
   "execution_count": null,
   "id": "a63c3a9f",
   "metadata": {},
   "outputs": [
    {
     "name": "stdout",
     "output_type": "stream",
     "text": [
      "Listening for wake word... (Press Ctrl+C to exit)\n",
      "\n",
      "Interrupted by user. Exiting gracefully.\n"
     ]
    },
    {
     "data": {
      "text/plain": [
       "False"
      ]
     },
     "execution_count": 18,
     "metadata": {},
     "output_type": "execute_result"
    }
   ],
   "source": [
    "import numpy as np\n",
    "import sounddevice as sd\n",
    "# from scipy.signal import resample_poly\n",
    "from palm_9000.utils import resample\n",
    "import pvporcupine\n",
    "\n",
    "\n",
    "def wait_for_wake_word(device: int, input_rate: int):\n",
    "    porcupine = pvporcupine.create(\n",
    "        access_key=settings.picovoice_access_key.get_secret_value(),\n",
    "        keyword_paths=[settings.porcupine_keyword_path],\n",
    "        model_path=settings.porcupine_model_path,\n",
    "    )\n",
    "\n",
    "    frame_length = porcupine.frame_length  # usually 512\n",
    "    target_rate = porcupine.sample_rate    # 16000 Hz\n",
    "    resample_ratio = target_rate / input_rate\n",
    "\n",
    "    # Number of input samples to resample into one Porcupine frame\n",
    "    # ceil(512 / (16000/44100)) = 1412\n",
    "    input_samples_per_frame = int(np.ceil(frame_length / resample_ratio))\n",
    "    buffer = np.zeros(0, dtype=np.int16)\n",
    "\n",
    "    print(\"Listening for wake word... (Press Ctrl+C to exit)\")\n",
    "\n",
    "    try:\n",
    "        with sd.InputStream(\n",
    "            samplerate=input_rate,\n",
    "            blocksize=0,\n",
    "            dtype=\"int16\",\n",
    "            channels=1,\n",
    "            device=device,\n",
    "        ) as stream:\n",
    "            while True:\n",
    "                audio_block, _ = stream.read(1024)\n",
    "                buffer = np.concatenate([buffer, audio_block.flatten()])\n",
    "\n",
    "                # Process as many full frames as we can\n",
    "                while len(buffer) >= input_samples_per_frame:\n",
    "                    chunk = buffer[:input_samples_per_frame]\n",
    "                    buffer = buffer[input_samples_per_frame:]\n",
    "\n",
    "                    resampled = resample(chunk, input_rate, target_rate)\n",
    "                    if len(resampled) < frame_length:\n",
    "                        continue\n",
    "\n",
    "                    pcm = np.clip(resampled[:frame_length], -32768, 32767).astype(np.int16)\n",
    "\n",
    "                    result = porcupine.process(pcm)\n",
    "                    if result >= 0:\n",
    "                        print(\"Wake word detected!\")\n",
    "                        return True\n",
    "\n",
    "    except KeyboardInterrupt:\n",
    "        print(\"\\nInterrupted by user. Exiting gracefully.\")\n",
    "        return False\n",
    "\n",
    "\n",
    "device = sd.query_devices(kind=\"input\")\n",
    "wait_for_wake_word(device[\"index\"], int(device[\"default_samplerate\"]))"
   ]
  }
 ],
 "metadata": {
  "kernelspec": {
   "display_name": "palm-9000",
   "language": "python",
   "name": "python3"
  },
  "language_info": {
   "codemirror_mode": {
    "name": "ipython",
    "version": 3
   },
   "file_extension": ".py",
   "mimetype": "text/x-python",
   "name": "python",
   "nbconvert_exporter": "python",
   "pygments_lexer": "ipython3",
   "version": "3.12.8"
  }
 },
 "nbformat": 4,
 "nbformat_minor": 5
}
