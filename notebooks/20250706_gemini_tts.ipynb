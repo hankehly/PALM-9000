{
 "cells": [
  {
   "cell_type": "code",
   "execution_count": 18,
   "id": "cfbe502c",
   "metadata": {},
   "outputs": [],
   "source": [
    "import io\n",
    "import wave\n",
    "\n",
    "import pyaudio\n",
    "from google import genai\n",
    "from google.genai import types\n",
    "from pydantic import BaseModel, SecretStr\n",
    "from pydantic_settings import BaseSettings, SettingsConfigDict\n",
    "\n",
    "\n",
    "class Google(BaseModel):\n",
    "    api_key: SecretStr | None = None\n",
    "\n",
    "\n",
    "class Settings(BaseSettings):\n",
    "    google: Google = Google()\n",
    "    model_config = SettingsConfigDict(\n",
    "        env_file=\".env\", env_nested_delimiter=\"__\", extra=\"ignore\"\n",
    "    )\n",
    "\n",
    "\n",
    "settings = Settings()\n",
    "\n",
    "client = genai.Client(api_key=settings.google.api_key.get_secret_value())"
   ]
  },
  {
   "cell_type": "code",
   "execution_count": 19,
   "id": "1ac1f9bc",
   "metadata": {},
   "outputs": [],
   "source": [
    "def play_audio(audio_bytes: bytes, sample_rate=24000):\n",
    "    buffer = io.BytesIO()\n",
    "\n",
    "    # Wrap PCM data in WAV headers in-memory\n",
    "    with wave.open(buffer, \"wb\") as wf:\n",
    "        wf.setnchannels(1)\n",
    "        wf.setsampwidth(2)  # 16-bit PCM\n",
    "        wf.setframerate(sample_rate)\n",
    "        wf.writeframes(audio_bytes)\n",
    "\n",
    "    buffer.seek(0)\n",
    "\n",
    "    # Play audio with PyAudio\n",
    "    wf = wave.open(buffer, \"rb\")\n",
    "    pa = pyaudio.PyAudio()\n",
    "    stream = pa.open(\n",
    "        format=pa.get_format_from_width(wf.getsampwidth()),\n",
    "        channels=wf.getnchannels(),\n",
    "        rate=wf.getframerate(),\n",
    "        output=True,\n",
    "    )\n",
    "    data = wf.readframes(1024)\n",
    "    while data:\n",
    "        stream.write(data)\n",
    "        data = wf.readframes(1024)\n",
    "\n",
    "    stream.stop_stream()\n",
    "    stream.close()\n",
    "    pa.terminate()"
   ]
  },
  {
   "cell_type": "code",
   "execution_count": null,
   "id": "d9846b16",
   "metadata": {},
   "outputs": [],
   "source": [
    "response = client.models.generate_content(\n",
    "    model=\"models/gemini-2.5-flash-preview-tts\",\n",
    "    contents=\"Say quickly, with an ominous voice: 'こんにちは、ボブさん'\",\n",
    "    config=types.GenerateContentConfig(\n",
    "        response_modalities=[\"AUDIO\"],\n",
    "        speech_config=types.SpeechConfig(\n",
    "            voice_config=types.VoiceConfig(\n",
    "                prebuilt_voice_config=types.PrebuiltVoiceConfig(\n",
    "                    voice_name=\"Kore\",\n",
    "                )\n",
    "            )\n",
    "        ),\n",
    "    ),\n",
    ")\n",
    "\n",
    "data = response.candidates[0].content.parts[0].inline_data.data"
   ]
  },
  {
   "cell_type": "code",
   "execution_count": 21,
   "id": "9cba310a",
   "metadata": {},
   "outputs": [],
   "source": [
    "play_audio(data)"
   ]
  }
 ],
 "metadata": {
  "kernelspec": {
   "display_name": "palm-9000",
   "language": "python",
   "name": "python3"
  },
  "language_info": {
   "codemirror_mode": {
    "name": "ipython",
    "version": 3
   },
   "file_extension": ".py",
   "mimetype": "text/x-python",
   "name": "python",
   "nbconvert_exporter": "python",
   "pygments_lexer": "ipython3",
   "version": "3.12.11"
  }
 },
 "nbformat": 4,
 "nbformat_minor": 5
}
