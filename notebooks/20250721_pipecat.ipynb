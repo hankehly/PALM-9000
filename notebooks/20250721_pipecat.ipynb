{
 "cells": [
  {
   "cell_type": "markdown",
   "id": "a7479238",
   "metadata": {},
   "source": [
    "# Summary\n",
    "\n",
    "This notebook explores [pipecat](https://github.com/pipecat-ai/pipecat), an open-source Python framework for building real-time voice and multimodal conversational agents."
   ]
  }
 ],
 "metadata": {
  "language_info": {
   "name": "python"
  }
 },
 "nbformat": 4,
 "nbformat_minor": 5
}
