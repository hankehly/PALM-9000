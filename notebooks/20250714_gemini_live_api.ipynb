{
 "cells": [
  {
   "cell_type": "markdown",
   "id": "ae414dd1",
   "metadata": {},
   "source": [
    "# Summary\n",
    "\n",
    "This notebook explores the use of the Google Gemini Live API for text-to-speech (TTS) conversion."
   ]
  },
  {
   "cell_type": "code",
   "execution_count": null,
   "id": "454d3320",
   "metadata": {},
   "outputs": [],
   "source": [
    "import wave\n",
    "\n",
    "from google import genai\n",
    "\n",
    "from palm_9000.settings import settings\n",
    "\n",
    "client = genai.Client(api_key=settings.google_api_key.get_secret_value())\n",
    "model = \"gemini-live-2.5-flash-preview\"\n",
    "\n",
    "config = {\"response_modalities\": [\"AUDIO\"]}\n",
    "\n",
    "\n",
    "async def main():\n",
    "    async with client.aio.live.connect(model=model, config=config) as session:\n",
    "        wf = wave.open(\"audio.wav\", \"wb\")\n",
    "        wf.setnchannels(1)\n",
    "        wf.setsampwidth(2)\n",
    "        wf.setframerate(24000)\n",
    "\n",
    "        message = \"Hello how are you?\"\n",
    "        await session.send_client_content(\n",
    "            turns={\"role\": \"user\", \"parts\": [{\"text\": message}]}, turn_complete=True\n",
    "        )\n",
    "\n",
    "        async for response in session.receive():\n",
    "            if response.data is not None:\n",
    "                wf.writeframes(response.data)\n",
    "\n",
    "            # Un-comment this code to print audio data info\n",
    "            # if response.server_content.model_turn is not None:\n",
    "            #      print(response.server_content.model_turn.parts[0].inline_data.mime_type)\n",
    "\n",
    "        wf.close()\n",
    "\n",
    "\n",
    "await main()"
   ]
  }
 ],
 "metadata": {
  "kernelspec": {
   "display_name": "palm-9000",
   "language": "python",
   "name": "python3"
  },
  "language_info": {
   "codemirror_mode": {
    "name": "ipython",
    "version": 3
   },
   "file_extension": ".py",
   "mimetype": "text/x-python",
   "name": "python",
   "nbconvert_exporter": "python",
   "pygments_lexer": "ipython3",
   "version": "3.12.11"
  }
 },
 "nbformat": 4,
 "nbformat_minor": 5
}
