{
 "cells": [
  {
   "cell_type": "markdown",
   "id": "980a3b04",
   "metadata": {},
   "source": [
    "# Summary\n",
    "\n",
    "This notebook demonstrates how to use the dot matrix module on the Raspberry Pi to create a pulsing circle animation. The following libraries are required:\n",
    "```\n",
    "spidev\n",
    "luma.led-matrix\n",
    "```\n",
    "\n",
    "Follow the instructions [here](https://docs.sunfounder.com/projects/raphael-kit/en/latest/python_pi5/pi5_1.1.6_led_dot_matrix_python.html) to hook up the hardware and install the libraries."
   ]
  },
  {
   "cell_type": "code",
   "execution_count": 13,
   "id": "ac181edf",
   "metadata": {},
   "outputs": [],
   "source": [
    "import math\n",
    "import time\n",
    "\n",
    "from luma.core.interface.serial import noop, spi\n",
    "from luma.core.legacy import text\n",
    "from luma.core.legacy.font import CP437_FONT, LCD_FONT, proportional\n",
    "from luma.core.render import canvas\n",
    "from luma.core.virtual import viewport\n",
    "from luma.led_matrix.device import max7219"
   ]
  },
  {
   "cell_type": "markdown",
   "id": "b896b69d",
   "metadata": {},
   "source": [
    "# Basic Shapes"
   ]
  },
  {
   "cell_type": "code",
   "execution_count": 14,
   "id": "f83d31cb",
   "metadata": {},
   "outputs": [
    {
     "data": {
      "text/plain": [
       "(0, 0, 7, 7)"
      ]
     },
     "execution_count": 14,
     "metadata": {},
     "output_type": "execute_result"
    }
   ],
   "source": [
    "# Initialize the SPI interface and the MAX7219 device\n",
    "serial = spi(port=0, device=0, gpio=noop())\n",
    "device = max7219(serial, rotate=0, width=8, height=8)\n",
    "\n",
    "# 8x8 matrix\n",
    "device.bounding_box"
   ]
  },
  {
   "cell_type": "markdown",
   "id": "6dee8a5c",
   "metadata": {},
   "source": [
    "### A hollow half circle"
   ]
  },
  {
   "cell_type": "code",
   "execution_count": 4,
   "id": "5f1d64a8",
   "metadata": {},
   "outputs": [],
   "source": [
    "with canvas(device) as draw:\n",
    "    draw.arc(device.bounding_box, start=0, end=180, fill=\"white\", width=1)"
   ]
  },
  {
   "cell_type": "markdown",
   "id": "5529cd90",
   "metadata": {},
   "source": [
    "### A filled in half-circle"
   ]
  },
  {
   "cell_type": "code",
   "execution_count": 5,
   "id": "2edd4e28",
   "metadata": {},
   "outputs": [],
   "source": [
    "with canvas(device) as draw:\n",
    "    draw.chord(device.bounding_box, start=180, end=360, fill=\"white\", outline=None, width=1)"
   ]
  },
  {
   "cell_type": "markdown",
   "id": "c8096dc5",
   "metadata": {},
   "source": [
    "### A circle centered in the matrix"
   ]
  },
  {
   "cell_type": "code",
   "execution_count": 6,
   "id": "24aae824",
   "metadata": {},
   "outputs": [],
   "source": [
    "center = (3.5, 3.5)  # Center of the 8x8 matrix\n",
    "\n",
    "# Each time you want to redraw the circle, you have to do a new canvas\n",
    "with canvas(device) as draw:\n",
    "    draw.circle(center, radius=4, fill=\"black\", outline=\"white\", width=1)"
   ]
  },
  {
   "cell_type": "markdown",
   "id": "fffbebe0",
   "metadata": {},
   "source": [
    "### Text moving across the matrix"
   ]
  },
  {
   "cell_type": "code",
   "execution_count": 7,
   "id": "96e5a70a",
   "metadata": {},
   "outputs": [],
   "source": [
    "virtual = viewport(device, width=200, height=400)\n",
    "\n",
    "with canvas(virtual) as draw:\n",
    "    text(draw, (0, 0), \"Hello, friend!\", fill=\"white\", font=proportional(CP437_FONT))\n",
    "\n",
    "for offset in range(150):\n",
    "    virtual.set_position((offset, 0))\n",
    "    time.sleep(0.1)"
   ]
  },
  {
   "cell_type": "markdown",
   "id": "f17ed9b9",
   "metadata": {},
   "source": [
    "# Pulsing Circle Animation"
   ]
  },
  {
   "cell_type": "code",
   "execution_count": 8,
   "id": "ed0d75b8",
   "metadata": {},
   "outputs": [],
   "source": [
    "serial = spi(port=0, device=0, gpio=noop())\n",
    "device = max7219(serial, cascaded=1)\n",
    "\n",
    "\n",
    "def draw_circle():\n",
    "    with canvas(device) as draw:\n",
    "        draw.ellipse(device.bounding_box, outline=\"white\", fill=\"white\")\n",
    "\n",
    "\n",
    "def asymmetric_wave(t):\n",
    "    \"\"\"\n",
    "    Very fast rise, slow decay.\n",
    "    - t in [0, 1]\n",
    "    - Immediate full brightness for first 10% of cycle\n",
    "    - Smooth exponential decay afterward\n",
    "    \"\"\"\n",
    "    if t < 0.1:\n",
    "        return 1.0\n",
    "    else:\n",
    "        # Decay from 1 → ~0 over rest of cycle\n",
    "        decay = math.exp(-5 * (t - 0.1))\n",
    "        return max(0.0, decay)\n",
    "\n",
    "\n",
    "def pulse_circle(duration=5.0, fps=30, min_brightness=4, max_brightness=255):\n",
    "    \"\"\"\n",
    "    Pulses a circle with fast rise and slow fade.\n",
    "    \"\"\"\n",
    "    cycle_time = 1.0\n",
    "    start_time = time.time()\n",
    "\n",
    "    while time.time() - start_time < duration:\n",
    "        t = (time.time() - start_time) % cycle_time\n",
    "        norm_t = t / cycle_time\n",
    "        brightness_factor = asymmetric_wave(norm_t)\n",
    "        brightness = min_brightness + int(\n",
    "            brightness_factor * (max_brightness - min_brightness)\n",
    "        )\n",
    "        device.contrast(brightness)\n",
    "        draw_circle()\n",
    "        time.sleep(1 / fps)\n",
    "\n",
    "\n",
    "pulse_circle(duration=5.0, fps=60)"
   ]
  },
  {
   "cell_type": "code",
   "execution_count": 12,
   "id": "b5ecbb6b",
   "metadata": {},
   "outputs": [],
   "source": [
    "serial = spi(port=0, device=0, gpio=noop())\n",
    "device = max7219(serial, cascaded=1)\n",
    "\n",
    "\n",
    "def draw_heart():\n",
    "    pixels = [\n",
    "        # fmt: off\n",
    "                (1, 1),                                 (6, 1),\n",
    "        (0, 2), (1, 2), (2, 2),                 (5, 2), (6, 2), (7, 2),\n",
    "        (0, 3), (1, 3), (2, 3), (3, 3), (4, 3), (5, 3), (6, 3), (7, 3),\n",
    "                (1, 4), (2, 4), (3, 4), (4, 4), (5, 4), (6, 4),\n",
    "                        (2, 5), (3, 5), (4, 5), (5, 5),\n",
    "                                (3, 6), (4, 6)\n",
    "        # fmt: on\n",
    "    ]\n",
    "    with canvas(device) as draw:\n",
    "        for x, y in pixels:\n",
    "            draw.point((x, y), fill=\"white\")\n",
    "\n",
    "\n",
    "def pulse_heart(\n",
    "    duration=5.0,\n",
    "    fps=30,\n",
    "    cycle_time=1.0,\n",
    "    min_brightness=4,\n",
    "    max_brightness=255,\n",
    "):\n",
    "    start_time = time.time()\n",
    "\n",
    "    while time.time() - start_time < duration:\n",
    "        t = (time.time() - start_time) % cycle_time\n",
    "        norm_t = t / cycle_time\n",
    "        if norm_t < 0.1:\n",
    "            brightness_factor = 1.0  # instant pulse\n",
    "        else:\n",
    "            brightness_factor = max(0.0, math.exp(-5 * (norm_t - 0.1)))\n",
    "        brightness = min_brightness + int(\n",
    "            brightness_factor * (max_brightness - min_brightness)\n",
    "        )\n",
    "        device.contrast(brightness)\n",
    "        draw_heart()\n",
    "        time.sleep(1 / fps)\n",
    "\n",
    "\n",
    "pulse_heart(\n",
    "    duration=5.0,\n",
    "    fps=30,\n",
    "    cycle_time=0.5,\n",
    "    min_brightness=0,\n",
    "    max_brightness=255,\n",
    ")"
   ]
  },
  {
   "cell_type": "markdown",
   "id": "a9b8d12c",
   "metadata": {},
   "source": [
    "# Ripple Animation"
   ]
  },
  {
   "cell_type": "code",
   "execution_count": 10,
   "id": "be73c541",
   "metadata": {},
   "outputs": [],
   "source": [
    "# Predefined ripple frames (bounding boxes for ellipses)\n",
    "ripple_frames = [\n",
    "    [(3, 3, 4, 4)],  # Center dot\n",
    "    [(2, 2, 5, 5)],  # First ring\n",
    "    [(1, 1, 6, 6)],  # Second ring\n",
    "    [(0, 0, 7, 7)],  # Full frame\n",
    "]\n",
    "\n",
    "\n",
    "def ripple_animation(duration=5.0, fps=4):\n",
    "    \"\"\"\n",
    "    Displays a ripple animation expanding from the center.\n",
    "    duration: total time to run in seconds\n",
    "    fps: frames per second\n",
    "    \"\"\"\n",
    "    start_time = time.time()\n",
    "    frame_duration = 1 / fps\n",
    "\n",
    "    while time.time() - start_time < duration:\n",
    "        for frame in ripple_frames:\n",
    "            with canvas(device) as draw:\n",
    "                for bbox in frame:\n",
    "                    draw.ellipse(bbox, outline=\"white\")\n",
    "            time.sleep(frame_duration)\n",
    "\n",
    "\n",
    "ripple_animation(duration=5.0)"
   ]
  },
  {
   "cell_type": "markdown",
   "id": "b0b82d7a",
   "metadata": {},
   "source": [
    "# Voice activity animation"
   ]
  },
  {
   "cell_type": "code",
   "execution_count": 11,
   "id": "2fca57b1",
   "metadata": {},
   "outputs": [],
   "source": [
    "serial = spi(port=0, device=0, gpio=noop())\n",
    "device = max7219(serial, cascaded=1)\n",
    "\n",
    "\n",
    "def voice_bounce_bars(duration=5.0, fps=15, speed=2.5):\n",
    "    \"\"\"\n",
    "    Draws 5 vertical bars that bounce up/down like a voice activity animation.\n",
    "    \"\"\"\n",
    "    start_time = time.time()\n",
    "\n",
    "    bar_columns = [0, 2, 3, 5, 7]  # spread across 8x8\n",
    "    bar_offsets = [0.0, 0.3, 0.6, 0.3, 0.0]  # phase offset per bar\n",
    "\n",
    "    while time.time() - start_time < duration:\n",
    "        t = time.time() - start_time\n",
    "        with canvas(device) as draw:\n",
    "            for i, x in enumerate(bar_columns):\n",
    "                phase = bar_offsets[i]\n",
    "                # Height will range from 2 to 6 (for visual bounce)\n",
    "                height = 2 + int(2.5 * (math.sin(speed * t + phase * math.pi) + 1))\n",
    "                for y in range(8 - height, 8):\n",
    "                    draw.point((x, y), fill=\"white\")\n",
    "        time.sleep(1 / fps)\n",
    "\n",
    "\n",
    "voice_bounce_bars(duration=5, fps=60, speed=10.0)"
   ]
  }
 ],
 "metadata": {
  "kernelspec": {
   "display_name": "palm-9000",
   "language": "python",
   "name": "python3"
  },
  "language_info": {
   "codemirror_mode": {
    "name": "ipython",
    "version": 3
   },
   "file_extension": ".py",
   "mimetype": "text/x-python",
   "name": "python",
   "nbconvert_exporter": "python",
   "pygments_lexer": "ipython3",
   "version": "3.12.8"
  }
 },
 "nbformat": 4,
 "nbformat_minor": 5
}
