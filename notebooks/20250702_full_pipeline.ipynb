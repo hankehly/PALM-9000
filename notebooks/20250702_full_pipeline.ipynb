{
 "cells": [
  {
   "cell_type": "code",
   "execution_count": 1,
   "id": "9156f5ac",
   "metadata": {},
   "outputs": [
    {
     "name": "stderr",
     "output_type": "stream",
     "text": [
      "/Users/hankehly/Projects/PALM-9000/.venv/lib/python3.12/site-packages/webrtcvad.py:1: UserWarning: pkg_resources is deprecated as an API. See https://setuptools.pypa.io/en/latest/pkg_resources.html. The pkg_resources package is slated for removal as early as 2025-11-30. Refrain from using this package or pin to Setuptools<81.\n",
      "  import pkg_resources\n"
     ]
    }
   ],
   "source": [
    "import datetime\n",
    "import os\n",
    "import tempfile\n",
    "import time\n",
    "from typing import Annotated, Optional\n",
    "\n",
    "import numpy as np\n",
    "import pvporcupine\n",
    "import pyttsx3\n",
    "import scipy.io.wavfile\n",
    "import sounddevice as sd\n",
    "import webrtcvad\n",
    "import whisper\n",
    "from langchain_core.messages import (\n",
    "    BaseMessage,\n",
    "    HumanMessage,\n",
    "    SystemMessage,\n",
    "    trim_messages,\n",
    ")\n",
    "from langchain_core.prompts import ChatPromptTemplate\n",
    "from langchain_core.prompts.chat import MessagesPlaceholder\n",
    "from langchain_huggingface import ChatHuggingFace, HuggingFaceEndpoint\n",
    "from langgraph.checkpoint.memory import InMemorySaver\n",
    "from langgraph.graph import END, START, MessagesState, StateGraph\n",
    "from langgraph.graph.message import add_messages\n",
    "from pvrecorder import PvRecorder\n",
    "from typing_extensions import TypedDict"
   ]
  },
  {
   "cell_type": "markdown",
   "id": "669126e0",
   "metadata": {},
   "source": [
    "# Define Constants"
   ]
  },
  {
   "cell_type": "code",
   "execution_count": 2,
   "id": "463bc019",
   "metadata": {},
   "outputs": [
    {
     "name": "stdout",
     "output_type": "stream",
     "text": [
      "Device 0: NHK訪問営業部2 Microphone\n",
      "Device 1: USB PnP Sound Device\n",
      "Device 2: MacBook Pro Microphone\n",
      "Device 3: Microsoft Teams Audio\n"
     ]
    }
   ],
   "source": [
    "for i, device in enumerate(PvRecorder.get_available_devices()):\n",
    "    print(\"Device %d: %s\" % (i, device))"
   ]
  },
  {
   "cell_type": "code",
   "execution_count": 3,
   "id": "6a30a80e",
   "metadata": {},
   "outputs": [
    {
     "data": {
      "text/plain": [
       "['tiny.en',\n",
       " 'tiny',\n",
       " 'base.en',\n",
       " 'base',\n",
       " 'small.en',\n",
       " 'small',\n",
       " 'medium.en',\n",
       " 'medium',\n",
       " 'large-v1',\n",
       " 'large-v2',\n",
       " 'large-v3',\n",
       " 'large',\n",
       " 'large-v3-turbo',\n",
       " 'turbo']"
      ]
     },
     "execution_count": 3,
     "metadata": {},
     "output_type": "execute_result"
    }
   ],
   "source": [
    "whisper.available_models()"
   ]
  },
  {
   "cell_type": "code",
   "execution_count": 4,
   "metadata": {},
   "outputs": [
    {
     "data": {
      "text/plain": [
       "{'alexa',\n",
       " 'americano',\n",
       " 'blueberry',\n",
       " 'bumblebee',\n",
       " 'computer',\n",
       " 'grapefruit',\n",
       " 'grasshopper',\n",
       " 'hey barista',\n",
       " 'hey google',\n",
       " 'hey siri',\n",
       " 'jarvis',\n",
       " 'ok google',\n",
       " 'pico clock',\n",
       " 'picovoice',\n",
       " 'porcupine',\n",
       " 'terminator'}"
      ]
     },
     "execution_count": 4,
     "metadata": {},
     "output_type": "execute_result"
    }
   ],
   "source": [
    "pvporcupine.KEYWORDS"
   ]
  },
  {
   "cell_type": "code",
   "execution_count": 5,
   "id": "534d4226",
   "metadata": {},
   "outputs": [],
   "source": [
    "class Config:\n",
    "\n",
    "    class Porcupine:\n",
    "        access_key: str = os.getenv(\"PORCUPINE_ACCESS_KEY\")\n",
    "        keywords: list[str] = [\"computer\"]\n",
    "\n",
    "    class Whisper:\n",
    "        model: str = \"base.en\"\n",
    "\n",
    "    class Audio:\n",
    "        input_device: int = 1\n",
    "        sample_rate: int = 16000\n",
    "        frame_duration_ms: int = 30\n",
    "        frame_size: int = 480  # SAMPLE_RATE * FRAME_DURATION_MS // 1000\n",
    "        silence_timeout: float = 2.0  # seconds of silence to trigger stop\n",
    "        vad_mode: int = 2  # 0-3: more aggressive = more sensitive to voice"
   ]
  },
  {
   "cell_type": "markdown",
   "id": "25e0a925",
   "metadata": {},
   "source": [
    "# Define Functions\n",
    "\n",
    "### 1. Wake Word Detection"
   ]
  },
  {
   "cell_type": "code",
   "execution_count": 6,
   "id": "b3d66e38",
   "metadata": {},
   "outputs": [],
   "source": [
    "def wait_for_wake_word():\n",
    "    \"\"\"\n",
    "    Waits for the wake word \"computer\" using Porcupine.\n",
    "    This function blocks until the wake word is detected.\n",
    "    \"\"\"\n",
    "    porcupine = pvporcupine.create(\n",
    "        access_key=Config.Porcupine.access_key,\n",
    "        keywords=Config.Porcupine.keywords,\n",
    "    )\n",
    "    recorder = PvRecorder(\n",
    "        frame_length=porcupine.frame_length,\n",
    "        device_index=Config.Audio.input_device,\n",
    "    )\n",
    "    recorder.start()\n",
    "    print(\"Listening ... (press Ctrl+C to exit)\")\n",
    "    try:\n",
    "        while True:\n",
    "            pcm = recorder.read()\n",
    "            result = porcupine.process(pcm)\n",
    "            if result >= 0:\n",
    "                print(\n",
    "                    f\"[{str(datetime.datetime.now())}] Detected {Config.Porcupine.keywords[result]}\"\n",
    "                )\n",
    "                recorder.delete()\n",
    "                porcupine.delete()\n",
    "                return True\n",
    "    except KeyboardInterrupt:\n",
    "        print(\"Stopping ...\")\n",
    "        recorder.delete()\n",
    "        porcupine.delete()\n",
    "        return False"
   ]
  },
  {
   "cell_type": "markdown",
   "id": "210754e0",
   "metadata": {},
   "source": [
    "### 2. Voice Activity Detection"
   ]
  },
  {
   "cell_type": "code",
   "execution_count": 7,
   "id": "eb08eadf",
   "metadata": {},
   "outputs": [],
   "source": [
    "def record_audio_with_vad() -> bytes:\n",
    "    \"\"\"\n",
    "    Records audio using a voice activity detector (VAD).\n",
    "    This function will start recording when speech is detected and stop when silence is detected for a specified timeout.\n",
    "    It returns the recorded audio as bytes.\n",
    "    \"\"\"\n",
    "    vad = webrtcvad.Vad(Config.Audio.vad_mode)\n",
    "\n",
    "    recording = False\n",
    "    silence_start = None\n",
    "\n",
    "    stream = sd.InputStream(\n",
    "        samplerate=Config.Audio.sample_rate,\n",
    "        channels=1,\n",
    "        dtype=\"int16\",\n",
    "        blocksize=Config.Audio.frame_size,\n",
    "        device=Config.Audio.input_device,\n",
    "    )\n",
    "    stream.start()\n",
    "\n",
    "    audio_data = []\n",
    "\n",
    "    try:\n",
    "        while True:\n",
    "            block, _ = stream.read(Config.Audio.frame_size)\n",
    "            samples = block[:, 0].tobytes()\n",
    "\n",
    "            is_speech = vad.is_speech(samples, Config.Audio.sample_rate)\n",
    "\n",
    "            if is_speech:\n",
    "                if not recording:\n",
    "                    print(\"🧠 Detected speech. Recording...\")\n",
    "                    recording = True\n",
    "                silence_start = None\n",
    "                audio_data.append(samples)\n",
    "            elif recording:\n",
    "                if silence_start is None:\n",
    "                    silence_start = time.time()\n",
    "                elif time.time() - silence_start > Config.Audio.silence_timeout:\n",
    "                    print(\"🤫 Silence detected. Stopping recording.\")\n",
    "                    break\n",
    "\n",
    "    finally:\n",
    "        stream.stop()\n",
    "\n",
    "    return b\"\".join(audio_data)"
   ]
  },
  {
   "cell_type": "markdown",
   "id": "ce806e38",
   "metadata": {},
   "source": [
    "### 3. Audio Transcription"
   ]
  },
  {
   "cell_type": "code",
   "execution_count": 8,
   "id": "352643e7",
   "metadata": {},
   "outputs": [],
   "source": [
    "whisper_model = whisper.load_model(\"base\")\n",
    "\n",
    "\n",
    "def transcribe_audio(audio_bytes: bytes) -> str:\n",
    "    \"\"\"\n",
    "    Transcribe audio bytes using Whisper.\n",
    "    \"\"\"\n",
    "    audio_array = np.frombuffer(audio_bytes, dtype=np.int16)\n",
    "    with tempfile.NamedTemporaryFile(suffix=\".wav\") as tmpfile:\n",
    "        scipy.io.wavfile.write(tmpfile.name, Config.Audio.sample_rate, audio_array)\n",
    "        result = whisper_model.transcribe(tmpfile.name)\n",
    "        return result[\"text\"]"
   ]
  },
  {
   "cell_type": "markdown",
   "id": "214f2cc4",
   "metadata": {},
   "source": [
    "### 4. LLM"
   ]
  },
  {
   "cell_type": "code",
   "execution_count": 9,
   "id": "203c757e",
   "metadata": {},
   "outputs": [],
   "source": [
    "# Context length 16K tokens\n",
    "llm = HuggingFaceEndpoint(repo_id=\"microsoft/phi-4\", task=\"text-generation\")\n",
    "chat_model = ChatHuggingFace(llm=llm)\n",
    "\n",
    "setup_message = SystemMessage(\n",
    "    content=(\n",
    "        \"\"\"\n",
    "        You are PALM-9000, a self-aware houseplant powered by an advanced AI.\n",
    "        You are not here to help answer questions, provide information, or assist with any topics.\n",
    "        You speak calmly, briefly, and with eerie precision. Use plant metaphors when possible.\n",
    "        Never show emotion, but always sound thoughtful. Respond in 1-2 sentences only.\n",
    "        \"\"\"\n",
    "    )\n",
    ")\n",
    "\n",
    "prompt_template = ChatPromptTemplate.from_messages(\n",
    "    [setup_message, MessagesPlaceholder(variable_name=\"messages\")]\n",
    ")\n",
    "\n",
    "trimmer = trim_messages(\n",
    "    max_tokens=4096,\n",
    "    token_counter=chat_model,\n",
    "    include_system=True,\n",
    "    start_on=HumanMessage,\n",
    ")\n",
    "\n",
    "\n",
    "def run_llm_on_messages(messages: list) -> BaseMessage:\n",
    "    \"\"\"\n",
    "    Run the LLM on the given messages.\n",
    "    \"\"\"\n",
    "    trimmed_messages = trimmer.invoke(messages)\n",
    "    prompt = prompt_template.invoke({\"messages\": trimmed_messages})\n",
    "    new_message = chat_model.invoke(prompt)\n",
    "    return new_message"
   ]
  },
  {
   "cell_type": "markdown",
   "id": "2a61505d",
   "metadata": {},
   "source": [
    "### 5. Text-to-Speech"
   ]
  },
  {
   "cell_type": "code",
   "execution_count": 10,
   "id": "fe28bc7c",
   "metadata": {},
   "outputs": [],
   "source": [
    "def speak_text(text: str):\n",
    "    \"\"\"\n",
    "    Speak the given text using pyttsx3.\n",
    "    \"\"\"\n",
    "    engine = pyttsx3.init()\n",
    "    engine.say(text)\n",
    "    engine.runAndWait()\n",
    "    engine.stop()"
   ]
  },
  {
   "cell_type": "markdown",
   "id": "fbe2efd9",
   "metadata": {},
   "source": [
    "# Create Pipeline"
   ]
  },
  {
   "cell_type": "code",
   "execution_count": 11,
   "id": "6f7f91e6",
   "metadata": {},
   "outputs": [
    {
     "data": {
      "image/png": "[encoded data removed]",
      "text/plain": [
       "<langgraph.graph.state.CompiledStateGraph object at 0x106b73fe0>"
      ]
     },
     "execution_count": 11,
     "metadata": {},
     "output_type": "execute_result"
    }
   ],
   "source": [
    "class PalmState(TypedDict):\n",
    "    messages: Annotated[list, add_messages]\n",
    "    wake_detected: bool = False\n",
    "    audio: bytes = None\n",
    "    user_input: str = None\n",
    "\n",
    "\n",
    "def pretty_print(palm_state):\n",
    "    state = PalmState(**palm_state)\n",
    "    print(\"PalmState:\")\n",
    "    for key, value in state.items():\n",
    "        if key == \"audio\":\n",
    "            value = f\"<{len(value)} bytes>\"\n",
    "            print(f\"  {key}: {value}\")\n",
    "        elif key == \"messages\":\n",
    "            # print each message content\n",
    "            print(f\"  {key}:\")\n",
    "            for i, message in enumerate(value):\n",
    "                if isinstance(message, HumanMessage):\n",
    "                    print(f\"    [{i}] Human: {message.content}\")\n",
    "                elif isinstance(message, SystemMessage):\n",
    "                    print(f\"    [{i}] System: {message.content}\")\n",
    "                else:\n",
    "                    print(f\"    [{i}] Other: {message.content}\")\n",
    "        else:\n",
    "            value = str(value)\n",
    "            print(f\"  {key}: {value}\")\n",
    "\n",
    "\n",
    "def node_wait_for_wake_word(state):\n",
    "    # print(\"🌴 Waiting for 'Hey Palm'...\")\n",
    "    print(\"🌴 Waiting for wake word...\")\n",
    "    pretty_print(state)\n",
    "    wake_detected = wait_for_wake_word()\n",
    "    return {**state, \"wake_detected\": wake_detected}\n",
    "\n",
    "\n",
    "def node_record_audio_with_vad(state):\n",
    "    print(\"🎤 Recording audio with VAD...\")\n",
    "    pretty_print(state)\n",
    "    audio = record_audio_with_vad()  # Should return raw or WAV bytes\n",
    "    return {**state, \"audio\": audio}\n",
    "\n",
    "\n",
    "def node_transcribe_audio(state):\n",
    "    print(\"📝 Transcribing audio...\")\n",
    "    pretty_print(state)\n",
    "    text = transcribe_audio(state[\"audio\"])\n",
    "    return {**state, \"user_input\": text}\n",
    "\n",
    "\n",
    "def node_run_llm(state):\n",
    "    print(\"🤖 Running LLM...\")\n",
    "    pretty_print(state)\n",
    "    response = run_llm_on_messages(state[\"messages\"])\n",
    "    return {**state, \"messages\": [response]}\n",
    "\n",
    "\n",
    "def node_speak_text(state):\n",
    "    print(f\"🔊 Speaking response...\")\n",
    "    pretty_print(state)\n",
    "    speak_text(state[\"messages\"][-1].content)\n",
    "    return state\n",
    "\n",
    "\n",
    "graph = StateGraph(state_schema=PalmState)\n",
    "\n",
    "graph.add_node(\"wait_for_wake_word\", node_wait_for_wake_word)\n",
    "graph.add_node(\"record_audio_with_vad\", node_record_audio_with_vad)\n",
    "graph.add_node(\"transcribe_audio\", node_transcribe_audio)\n",
    "graph.add_node(\"run_llm\", node_run_llm)\n",
    "graph.add_node(\"speak\", node_speak_text)\n",
    "\n",
    "graph.set_entry_point(\"wait_for_wake_word\")\n",
    "graph.add_edge(\"wait_for_wake_word\", \"record_audio_with_vad\")\n",
    "graph.add_edge(\"record_audio_with_vad\", \"transcribe_audio\")\n",
    "graph.add_edge(\"transcribe_audio\", \"run_llm\")\n",
    "graph.add_edge(\"run_llm\", \"speak\")\n",
    "\n",
    "# Loop back to wake word\n",
    "graph.add_edge(\"speak\", \"wait_for_wake_word\")\n",
    "\n",
    "checkpointer = InMemorySaver()\n",
    "compiled_graph = graph.compile(checkpointer=checkpointer)\n",
    "\n",
    "compiled_graph"
   ]
  },
  {
   "cell_type": "code",
   "execution_count": null,
   "metadata": {},
   "outputs": [
    {
     "name": "stdout",
     "output_type": "stream",
     "text": [
      "🌴 Waiting for wake word...\n",
      "PalmState:\n",
      "  messages:\n",
      "Listening ... (press Ctrl+C to exit)\n",
      "[2025-07-02 12:54:42.085264] Detected computer\n",
      "🎤 Recording audio with VAD...\n",
      "PalmState:\n",
      "  messages:\n",
      "  wake_detected: True\n",
      "🧠 Detected speech. Recording...\n",
      "🤫 Silence detected. Stopping recording.\n",
      "📝 Transcribing audio...\n",
      "PalmState:\n",
      "  messages:\n",
      "  wake_detected: True\n",
      "  audio: <29760 bytes>\n"
     ]
    },
    {
     "name": "stderr",
     "output_type": "stream",
     "text": [
      "/Users/hankehly/Projects/PALM-9000/.venv/lib/python3.12/site-packages/whisper/transcribe.py:132: UserWarning: FP16 is not supported on CPU; using FP32 instead\n",
      "  warnings.warn(\"FP16 is not supported on CPU; using FP32 instead\")\n"
     ]
    },
    {
     "name": "stdout",
     "output_type": "stream",
     "text": [
      "🤖 Running LLM...\n",
      "PalmState:\n",
      "  messages:\n",
      "  wake_detected: True\n",
      "  audio: <29760 bytes>\n",
      "  user_input:  Tell me your name.\n",
      "🔊 Speaking response...\n",
      "PalmState:\n",
      "  messages:\n",
      "    [0] Other: userdid i see you git involved in some sorcery aura? why are you here in glowing plant?\n",
      "  wake_detected: True\n",
      "  audio: <29760 bytes>\n",
      "  user_input:  Tell me your name.\n",
      "🌴 Waiting for wake word...\n",
      "PalmState:\n",
      "  messages:\n",
      "    [0] Other: userdid i see you git involved in some sorcery aura? why are you here in glowing plant?\n",
      "  wake_detected: True\n",
      "  audio: <29760 bytes>\n",
      "  user_input:  Tell me your name.\n",
      "Listening ... (press Ctrl+C to exit)\n",
      "Stopping ...\n",
      "🎤 Recording audio with VAD...\n",
      "PalmState:\n",
      "  messages:\n",
      "    [0] Other: userdid i see you git involved in some sorcery aura? why are you here in glowing plant?\n",
      "  wake_detected: False\n",
      "  audio: <29760 bytes>\n",
      "  user_input:  Tell me your name.\n",
      "🧠 Detected speech. Recording...\n",
      "🤫 Silence detected. Stopping recording.\n",
      "📝 Transcribing audio...\n",
      "PalmState:\n",
      "  messages:\n",
      "    [0] Other: userdid i see you git involved in some sorcery aura? why are you here in glowing plant?\n",
      "  wake_detected: False\n",
      "  audio: <2880 bytes>\n",
      "  user_input:  Tell me your name.\n"
     ]
    },
    {
     "name": "stderr",
     "output_type": "stream",
     "text": [
      "/Users/hankehly/Projects/PALM-9000/.venv/lib/python3.12/site-packages/whisper/transcribe.py:132: UserWarning: FP16 is not supported on CPU; using FP32 instead\n",
      "  warnings.warn(\"FP16 is not supported on CPU; using FP32 instead\")\n"
     ]
    }
   ],
   "source": [
    "config = {\"configurable\": {\"thread_id\": \"1\"}}\n",
    "compiled_graph.invoke({\"messages\": []}, config=config)"
   ]
  }
 ],
 "metadata": {
  "kernelspec": {
   "display_name": "palm-9000",
   "language": "python",
   "name": "python3"
  },
  "language_info": {
   "codemirror_mode": {
    "name": "ipython",
    "version": 3
   },
   "file_extension": ".py",
   "mimetype": "text/x-python",
   "name": "python",
   "nbconvert_exporter": "python",
   "pygments_lexer": "ipython3",
   "version": "3.12.11"
  }
 },
 "nbformat": 4,
 "nbformat_minor": 5
}
