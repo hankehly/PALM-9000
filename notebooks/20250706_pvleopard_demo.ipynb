{
 "cells": [
  {
   "cell_type": "markdown",
   "id": "104fa9aa",
   "metadata": {},
   "source": [
    "# Summary\n",
    "\n",
    "This code demonstrates how to use the picovoice Leopard speech-to-text engine to transcribe audio. It works much faster than whisper and has better accuracy than Vosk."
   ]
  },
  {
   "cell_type": "code",
   "execution_count": null,
   "id": "ea7f94fc",
   "metadata": {},
   "outputs": [],
   "source": [
    "import pvleopard\n",
    "\n",
    "import numpy as np\n",
    "import sounddevice as sd\n",
    "from pydantic import Field\n",
    "from pydantic import BaseModel, SecretStr\n",
    "from pydantic_settings import BaseSettings, SettingsConfigDict\n",
    "\n",
    "\n",
    "class Settings(BaseSettings):\n",
    "    picovoice_access_key: SecretStr\n",
    "    pvleopard_model_path: str\n",
    "\n",
    "\n",
    "    model_config = SettingsConfigDict(\n",
    "        env_file=\".env\", env_nested_delimiter=\"__\", extra=\"ignore\"\n",
    "    )\n",
    "\n",
    "settings = Settings()"
   ]
  },
  {
   "cell_type": "code",
   "execution_count": null,
   "id": "5b62d843",
   "metadata": {},
   "outputs": [],
   "source": [
    "leopard = pvleopard.create(\n",
    "    access_key=settings.picovoice_access_key.get_secret_value(),\n",
    "    model_path=settings.pvleopard_model_path,\n",
    ")"
   ]
  },
  {
   "cell_type": "code",
   "execution_count": null,
   "id": "335d81b1",
   "metadata": {},
   "outputs": [
    {
     "name": "stdout",
     "output_type": "stream",
     "text": [
      "🎙️ Recording for 4.0 seconds...\n",
      "✅ Done recording.\n",
      "今日は火曜日ではありません\n",
      "{word=\"今日\" start_sec=0.80 end_sec=0.83 confidence=0.90}\n",
      "{word=\"は\" start_sec=1.02 end_sec=1.09 confidence=0.99}\n",
      "{word=\"火曜\" start_sec=1.18 end_sec=1.41 confidence=0.86}\n",
      "{word=\"日\" start_sec=1.50 end_sec=1.57 confidence=0.96}\n",
      "{word=\"で\" start_sec=1.63 end_sec=1.66 confidence=0.96}\n",
      "{word=\"は\" start_sec=1.76 end_sec=1.79 confidence=0.98}\n",
      "{word=\"あり\" start_sec=1.89 end_sec=1.98 confidence=0.98}\n",
      "{word=\"ませ\" start_sec=2.05 end_sec=2.18 confidence=0.99}\n",
      "{word=\"ん\" start_sec=2.24 end_sec=2.30 confidence=0.77}\n"
     ]
    }
   ],
   "source": [
    "def record_audio(\n",
    "    duration_sec: float = 4.0, sample_rate: int = 16000, device: int | None = None\n",
    ") -> bytes:\n",
    "    \"\"\"\n",
    "    Record audio and return raw bytes.\n",
    "    \"\"\"\n",
    "    print(f\"🎙️ Recording for {duration_sec} seconds...\")\n",
    "\n",
    "    audio = sd.rec(\n",
    "        int(duration_sec * sample_rate),\n",
    "        samplerate=sample_rate,\n",
    "        channels=1,\n",
    "        dtype=\"int16\",\n",
    "        device=device,\n",
    "    )\n",
    "    sd.wait()\n",
    "    print(\"✅ Done recording.\")\n",
    "    # result = np.frombuffer(audio.tobytes(), dtype=np.int16)\n",
    "    # return result\n",
    "    return audio.flatten().tolist()\n",
    "\n",
    "\n",
    "audio = record_audio()\n",
    "transcript, words = leopard.process(audio)\n",
    "\n",
    "print(transcript)\n",
    "\n",
    "for word in words:\n",
    "    print(\n",
    "        '{word=\"%s\" start_sec=%.2f end_sec=%.2f confidence=%.2f}'\n",
    "        % (word.word, word.start_sec, word.end_sec, word.confidence)\n",
    "    )"
   ]
  }
 ],
 "metadata": {
  "kernelspec": {
   "display_name": "palm-9000",
   "language": "python",
   "name": "python3"
  },
  "language_info": {
   "codemirror_mode": {
    "name": "ipython",
    "version": 3
   },
   "file_extension": ".py",
   "mimetype": "text/x-python",
   "name": "python",
   "nbconvert_exporter": "python",
   "pygments_lexer": "ipython3",
   "version": "3.12.8"
  }
 },
 "nbformat": 4,
 "nbformat_minor": 5
}
